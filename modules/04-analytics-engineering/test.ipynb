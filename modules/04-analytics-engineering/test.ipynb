{
 "cells": [
  {
   "cell_type": "code",
   "execution_count": 1,
   "metadata": {},
   "outputs": [],
   "source": [
    "import pandas as pd\n",
    "import os\n",
    "\n",
    "WDIR = os.path.abspath(os.path.dirname(\"\"))"
   ]
  },
  {
   "cell_type": "code",
   "execution_count": 20,
   "metadata": {},
   "outputs": [],
   "source": [
    "filename = \"fhv_tripdata_2019-03.parquet\"\n",
    "uri=\"https://d37ci6vzurychx.cloudfront.net/trip-data/fhv_tripdata_2019-03.parquet\"\n",
    "# df = pd.read_parquet(os.path.join(WDIR, filename))\n",
    "df = pd.read_parquet(uri)"
   ]
  },
  {
   "cell_type": "code",
   "execution_count": 22,
   "metadata": {},
   "outputs": [
    {
     "data": {
      "text/plain": [
       "dispatching_base_num              object\n",
       "pickup_datetime           datetime64[us]\n",
       "dropOff_datetime          datetime64[us]\n",
       "PUlocationID                     float64\n",
       "DOlocationID                     float64\n",
       "SR_Flag                           object\n",
       "Affiliated_base_number            object\n",
       "dtype: object"
      ]
     },
     "execution_count": 22,
     "metadata": {},
     "output_type": "execute_result"
    }
   ],
   "source": [
    "df.dtypes"
   ]
  },
  {
   "cell_type": "code",
   "execution_count": 35,
   "metadata": {},
   "outputs": [],
   "source": [
    "data_type_mapping = {\n",
    "    'green': {\n",
    "        'VendorID': pd.Int64Dtype(),\n",
    "        'store_and_fwd_flag': str,\n",
    "        'RatecodeID': pd.Int64Dtype(),\n",
    "        'PULocationID': pd.Int64Dtype(),\n",
    "        'DOLocationID': pd.Int64Dtype(),\n",
    "        'passenger_count': pd.Int64Dtype(),\n",
    "        'trip_distance': float,\n",
    "        'fare_amount': float,\n",
    "        'extra': float,\n",
    "        'mta_tax': float,\n",
    "        'tip_amount': float,\n",
    "        'tolls_amount': float,\n",
    "        # 'ehail_fee': float,\n",
    "        'improvement_surcharge': float,\n",
    "        'total_amount': float,\n",
    "        'payment_type': pd.Int64Dtype(),\n",
    "        'trip_type': pd.Int64Dtype(),\n",
    "        'congestion_surcharge': float, \n",
    "        # 'lpep_pickup_datetime': pd.Int64Dtype(),\n",
    "        # 'lpep_dropoff_datetime': pd.Int64Dtype()\n",
    "    },\n",
    "    'yellow': {\n",
    "        'VendorID': pd.Int64Dtype(),\n",
    "        'passenger_count': pd.Int64Dtype(),\n",
    "        'trip_distance': float,\n",
    "        'RatecodeID': pd.Int64Dtype(),\n",
    "        'store_and_fwd_flag': str,\n",
    "        'PULocationID': str,\n",
    "        'DOLocationID': str,\n",
    "        'payment_type': str,\n",
    "        'fare_amount': float,\n",
    "        'extra': float,\n",
    "        'mta_tax': float,\n",
    "        'tip_amount': float,\n",
    "        'tolls_amount': float,\n",
    "        'improvement_surcharge': float,\n",
    "        'total_amount': float,\n",
    "        'congestion_surcharge': float,\n",
    "        # 'tpep_pickup_datetime': pd.Int64Dtype(), \n",
    "        # 'tpep_dropoff_datetime': pd.Int64Dtype()\n",
    "        # 'trip_type': pd.Int64Dtype(),\n",
    "        # 'ehail_fee': float,\n",
    "    },\n",
    "    'fhv': {\n",
    "        'dispatching_base_num': str,\n",
    "        'PULocationID': pd.Int64Dtype(),\n",
    "        'DOLocationID': pd.Int64Dtype(),\n",
    "        # 'PULocationID': 'Int64',\n",
    "        # 'DOLocationID': 'Int64',\n",
    "        'SR_Flag': pd.Int64Dtype(),\n",
    "        # 'pickup_datetime': pd.Int64Dtype(),\n",
    "        # 'dropOff_datetime': pd.Int64Dtype()\n",
    "    }\n",
    "}\n",
    "\n",
    "parse_date_mapping = {\n",
    "    'green': ['lpep_pickup_datetime', 'lpep_dropoff_datetime'],\n",
    "    'yellow': ['tpep_pickup_datetime', 'tpep_dropoff_datetime'],\n",
    "    'fhv': ['pickup_datetime', 'dropOff_datetime']\n",
    "}"
   ]
  },
  {
   "cell_type": "code",
   "execution_count": 38,
   "metadata": {},
   "outputs": [
    {
     "name": "stdout",
     "output_type": "stream",
     "text": [
      "{'dispatching_base_num': <class 'str'>, 'PULocationID': Int64Dtype(), 'DOLocationID': Int64Dtype(), 'SR_Flag': Int64Dtype()}\n"
     ]
    }
   ],
   "source": [
    "service = 'fhv'\n",
    "year = '2019'\n",
    "month = '03'\n",
    "file_name = f\"{service}_tripdata_{year}-{month}.csv.gz\"\n",
    "\n",
    "base_url = 'https://github.com/DataTalksClub/nyc-tlc-data/releases/download'\n",
    "\n",
    "# read it back into a parquet file\n",
    "# df = pd.read_csv(os.path.join(WDIR, \"data\", file_name), compression='gzip', dtype=data_type_mapping[service], parse_dates=parse_date_mapping[service])\n",
    "request_url = f\"{base_url}/{service}/{file_name}\"\n",
    "print(data_type_mapping[service])\n",
    "df_csv_gzip = pd.read_csv(request_url, compression='gzip', dtype=data_type_mapping[service], parse_dates=parse_date_mapping[service], dtype_backend=\"pyarrow\")"
   ]
  },
  {
   "cell_type": "code",
   "execution_count": 39,
   "metadata": {},
   "outputs": [
    {
     "data": {
      "text/plain": [
       "dispatching_base_num               object\n",
       "pickup_datetime            datetime64[ns]\n",
       "dropOff_datetime           datetime64[ns]\n",
       "PUlocationID               int64[pyarrow]\n",
       "DOlocationID               int64[pyarrow]\n",
       "SR_Flag                             Int64\n",
       "Affiliated_base_number    string[pyarrow]\n",
       "dtype: object"
      ]
     },
     "execution_count": 39,
     "metadata": {},
     "output_type": "execute_result"
    }
   ],
   "source": [
    "df_csv_gzip.dtypes"
   ]
  },
  {
   "cell_type": "code",
   "execution_count": 40,
   "metadata": {},
   "outputs": [
    {
     "data": {
      "text/html": [
       "<div>\n",
       "<style scoped>\n",
       "    .dataframe tbody tr th:only-of-type {\n",
       "        vertical-align: middle;\n",
       "    }\n",
       "\n",
       "    .dataframe tbody tr th {\n",
       "        vertical-align: top;\n",
       "    }\n",
       "\n",
       "    .dataframe thead th {\n",
       "        text-align: right;\n",
       "    }\n",
       "</style>\n",
       "<table border=\"1\" class=\"dataframe\">\n",
       "  <thead>\n",
       "    <tr style=\"text-align: right;\">\n",
       "      <th></th>\n",
       "      <th>dispatching_base_num</th>\n",
       "      <th>pickup_datetime</th>\n",
       "      <th>dropOff_datetime</th>\n",
       "      <th>PUlocationID</th>\n",
       "      <th>DOlocationID</th>\n",
       "      <th>SR_Flag</th>\n",
       "      <th>Affiliated_base_number</th>\n",
       "    </tr>\n",
       "  </thead>\n",
       "  <tbody>\n",
       "    <tr>\n",
       "      <th>0</th>\n",
       "      <td>B00013</td>\n",
       "      <td>2019-03-01 00:09:15</td>\n",
       "      <td>2019-03-01 00:26:20</td>\n",
       "      <td>264</td>\n",
       "      <td>264</td>\n",
       "      <td>&lt;NA&gt;</td>\n",
       "      <td>B00013</td>\n",
       "    </tr>\n",
       "    <tr>\n",
       "      <th>1</th>\n",
       "      <td>B00013</td>\n",
       "      <td>2019-03-01 00:00:08</td>\n",
       "      <td>2019-03-02 00:30:33</td>\n",
       "      <td>264</td>\n",
       "      <td>264</td>\n",
       "      <td>&lt;NA&gt;</td>\n",
       "      <td>B00013</td>\n",
       "    </tr>\n",
       "    <tr>\n",
       "      <th>2</th>\n",
       "      <td>B00013</td>\n",
       "      <td>2019-03-01 00:55:38</td>\n",
       "      <td>2019-03-01 01:03:13</td>\n",
       "      <td>264</td>\n",
       "      <td>264</td>\n",
       "      <td>&lt;NA&gt;</td>\n",
       "      <td>B00013</td>\n",
       "    </tr>\n",
       "    <tr>\n",
       "      <th>3</th>\n",
       "      <td>B00013</td>\n",
       "      <td>2019-03-01 00:56:30</td>\n",
       "      <td>2019-03-01 01:00:43</td>\n",
       "      <td>264</td>\n",
       "      <td>264</td>\n",
       "      <td>&lt;NA&gt;</td>\n",
       "      <td>B00013</td>\n",
       "    </tr>\n",
       "    <tr>\n",
       "      <th>4</th>\n",
       "      <td>B00014</td>\n",
       "      <td>2019-03-01 00:53:03</td>\n",
       "      <td>2019-03-01 00:59:46</td>\n",
       "      <td>264</td>\n",
       "      <td>264</td>\n",
       "      <td>&lt;NA&gt;</td>\n",
       "      <td>B00014</td>\n",
       "    </tr>\n",
       "  </tbody>\n",
       "</table>\n",
       "</div>"
      ],
      "text/plain": [
       "  dispatching_base_num     pickup_datetime    dropOff_datetime  PUlocationID  \\\n",
       "0               B00013 2019-03-01 00:09:15 2019-03-01 00:26:20           264   \n",
       "1               B00013 2019-03-01 00:00:08 2019-03-02 00:30:33           264   \n",
       "2               B00013 2019-03-01 00:55:38 2019-03-01 01:03:13           264   \n",
       "3               B00013 2019-03-01 00:56:30 2019-03-01 01:00:43           264   \n",
       "4               B00014 2019-03-01 00:53:03 2019-03-01 00:59:46           264   \n",
       "\n",
       "   DOlocationID  SR_Flag Affiliated_base_number  \n",
       "0           264     <NA>                 B00013  \n",
       "1           264     <NA>                 B00013  \n",
       "2           264     <NA>                 B00013  \n",
       "3           264     <NA>                 B00013  \n",
       "4           264     <NA>                 B00014  "
      ]
     },
     "execution_count": 40,
     "metadata": {},
     "output_type": "execute_result"
    }
   ],
   "source": [
    "df_csv_gzip.head()"
   ]
  },
  {
   "cell_type": "code",
   "execution_count": 41,
   "metadata": {},
   "outputs": [
    {
     "data": {
      "text/plain": [
       "6910       <NA>\n",
       "9459       <NA>\n",
       "16492      <NA>\n",
       "21962      <NA>\n",
       "34022      <NA>\n",
       "           ... \n",
       "1471425    <NA>\n",
       "1471426    <NA>\n",
       "1472289    <NA>\n",
       "1472873    <NA>\n",
       "1472961    <NA>\n",
       "Name: DOlocationID, Length: 1104, dtype: int64[pyarrow]"
      ]
     },
     "execution_count": 41,
     "metadata": {},
     "output_type": "execute_result"
    }
   ],
   "source": [
    "df_csv_gzip[df_csv_gzip.DOlocationID.isna()].DOlocationID"
   ]
  },
  {
   "cell_type": "code",
   "execution_count": 26,
   "metadata": {},
   "outputs": [],
   "source": [
    "df_csv_gzip.DOlocationID = df_csv_gzip.DOlocationID.astype('Int64')"
   ]
  },
  {
   "cell_type": "code",
   "execution_count": null,
   "metadata": {},
   "outputs": [],
   "source": [
    "\"IntCastingNaNError: Cannot convert non-finite values (NA or inf) to integer\""
   ]
  }
 ],
 "metadata": {
  "kernelspec": {
   "display_name": "Python 3",
   "language": "python",
   "name": "python3"
  },
  "language_info": {
   "codemirror_mode": {
    "name": "ipython",
    "version": 3
   },
   "file_extension": ".py",
   "mimetype": "text/x-python",
   "name": "python",
   "nbconvert_exporter": "python",
   "pygments_lexer": "ipython3",
   "version": "3.11.4"
  }
 },
 "nbformat": 4,
 "nbformat_minor": 2
}
